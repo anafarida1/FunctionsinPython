{
  "nbformat": 4,
  "nbformat_minor": 0,
  "metadata": {
    "colab": {
      "provenance": []
    },
    "kernelspec": {
      "name": "python3",
      "display_name": "Python 3"
    },
    "language_info": {
      "name": "python"
    }
  },
  "cells": [
    {
      "cell_type": "markdown",
      "source": [
        "# 1.Buatlah sebuah fungsi untuk mendapatkan nilai terbesar dari input 3 (tiga) buah bilangan. Catatan: tidak boleh memanfaatkan fungsi max() atau built-in function lainnya."
      ],
      "metadata": {
        "id": "F36bsrdNEpR6"
      }
    },
    {
      "cell_type": "code",
      "execution_count": null,
      "metadata": {
        "id": "59KHifAuCLi6"
      },
      "outputs": [],
      "source": [
        "def maksimal(x, y, z):\n",
        "    angka = [i for i in [x, y, z] if isinstance(i, (int, float))]\n",
        "\n",
        "    if not angka:\n",
        "      return (\"Input harus ada yang berupa angka.\")\n",
        "\n",
        "    else:\n",
        "      maks = angka[0]\n",
        "      for i in angka:\n",
        "          if i > maks:\n",
        "            maks = i\n",
        "\n",
        "      return maks"
      ]
    },
    {
      "cell_type": "code",
      "source": [
        "maksimal('b',9 , 11)"
      ],
      "metadata": {
        "colab": {
          "base_uri": "https://localhost:8080/"
        },
        "id": "anDuE__fI2ZB",
        "outputId": "b422921c-0d1f-477c-da3c-f4fc1b9b3a05"
      },
      "execution_count": null,
      "outputs": [
        {
          "output_type": "execute_result",
          "data": {
            "text/plain": [
              "11"
            ]
          },
          "metadata": {},
          "execution_count": 2
        }
      ]
    },
    {
      "cell_type": "markdown",
      "source": [],
      "metadata": {
        "id": "RhBbRi5qFFKy"
      }
    },
    {
      "cell_type": "markdown",
      "source": [
        "# 2. Buatlah sebuah fungsi untuk mendapatkan nilai rata-rata dari input sejumlah n bilangan dalam sebuah list. Catatan: tidak boleh menggunakan fungsi sum(), mean() atau built-in function lainnya. Contoh input: [10, 20, 30, 40, 50] Output yang diharapkan: 30\n"
      ],
      "metadata": {
        "id": "E7NR9CPVFI0C"
      }
    },
    {
      "cell_type": "code",
      "source": [
        "def rata_rata(list_angka1):\n",
        "    total = 0\n",
        "    count = 0\n",
        "\n",
        "    for angka in list_angka1:\n",
        "        if isinstance(angka, (int, float)):\n",
        "            total += angka\n",
        "            count += 1\n",
        "        else:\n",
        "            print(f\"{angka} diabaikan karena bukan angka.\")\n",
        "\n",
        "    if count == 0:\n",
        "        return 0\n",
        "\n",
        "    else:\n",
        "      return total / count"
      ],
      "metadata": {
        "id": "GmRp7nDTFV0q"
      },
      "execution_count": null,
      "outputs": []
    },
    {
      "cell_type": "code",
      "source": [
        "rata_rata([7,8.5,\"a\"])"
      ],
      "metadata": {
        "colab": {
          "base_uri": "https://localhost:8080/"
        },
        "id": "Wxmj0PBXMND4",
        "outputId": "dd272cb9-45b8-4b5f-c6d7-c76bc69fd976"
      },
      "execution_count": null,
      "outputs": [
        {
          "output_type": "stream",
          "name": "stdout",
          "text": [
            "a diabaikan karena bukan angka.\n"
          ]
        },
        {
          "output_type": "execute_result",
          "data": {
            "text/plain": [
              "7.75"
            ]
          },
          "metadata": {},
          "execution_count": 4
        }
      ]
    },
    {
      "cell_type": "markdown",
      "source": [],
      "metadata": {
        "id": "kwn-q5KrIJGK"
      }
    },
    {
      "cell_type": "markdown",
      "source": [
        "# 3. Buatlah sebuah fungsi yang menghitung banyaknya bilangan genap dan bilangan ganjil dari sejumlah elemen di dalam sebuah list. Output berupa sebuah tuple dengan dua elemen: elemen pertama adalah banyanya bilangan genap, elemen kedua adalah banyaknya bilangan ganjil. Contoh input: [1, 2, 3, 4, 5, 6, 7] Output yang diharapkan: (3, 4)\n"
      ],
      "metadata": {
        "id": "icqKj9SxINdR"
      }
    },
    {
      "cell_type": "code",
      "source": [
        "def hitung_genap_ganjil(list_angka2):\n",
        "    genap = 0\n",
        "    ganjil = 0\n",
        "\n",
        "    for angka in list_angka2:\n",
        "        if isinstance(angka, int):\n",
        "            if angka % 2 == 0:\n",
        "                genap += 1\n",
        "            else:\n",
        "                ganjil += 1\n",
        "        elif isinstance(angka, float):\n",
        "            print(f\"{angka} adalah angka float, diabaikan dari perhitungan genap/ganjil.\")\n",
        "        else:\n",
        "            print(f\"{angka} diabaikan karena bukan angka.\")\n",
        "\n",
        "    return (genap, ganjil)"
      ],
      "metadata": {
        "id": "lZqN9fC6M_K4"
      },
      "execution_count": null,
      "outputs": []
    },
    {
      "cell_type": "code",
      "source": [
        "hitung_genap_ganjil([6,9,7,10,\"a\", 4.5])"
      ],
      "metadata": {
        "colab": {
          "base_uri": "https://localhost:8080/"
        },
        "id": "HtjBQCCWN7uh",
        "outputId": "f0e66b03-696c-412a-8c7e-5904cba494fa"
      },
      "execution_count": null,
      "outputs": [
        {
          "output_type": "stream",
          "name": "stdout",
          "text": [
            "a diabaikan karena bukan angka.\n",
            "4.5 adalah angka float, diabaikan dari perhitungan genap/ganjil.\n"
          ]
        },
        {
          "output_type": "execute_result",
          "data": {
            "text/plain": [
              "(2, 2)"
            ]
          },
          "metadata": {},
          "execution_count": 6
        }
      ]
    },
    {
      "cell_type": "markdown",
      "source": [],
      "metadata": {
        "id": "7bUjFalhRrOy"
      }
    },
    {
      "cell_type": "markdown",
      "source": [
        "# 4. Diberikan sebuah string yang merupakan campuran dari huruf kecil dan huruf kapital. Buatlah sebuah fungsi yang mengubah susunan huruf dalam string tersebut supaya huruf kecil muncul terlebih dahulu baru diikuti huruf kapital.Contoh input: “DigitaLSkolA”. Contoh output: “igitakolDLSA\n"
      ],
      "metadata": {
        "id": "IbeiBPWvRsly"
      }
    },
    {
      "cell_type": "code",
      "source": [
        "def urut_huruf(teks1):\n",
        "    if not isinstance(teks1, str):\n",
        "        print(f\"{teks1} diabaikan karena bukan string.\")\n",
        "        return None\n",
        "\n",
        "    huruf_kecil = \"\"\n",
        "    huruf_besar = \"\"\n",
        "\n",
        "    for char in teks1:\n",
        "        if char.islower():\n",
        "            huruf_kecil += char\n",
        "        elif char.isupper():\n",
        "            huruf_besar += char\n",
        "        else:\n",
        "            print(f\"{char} diabaikan karena bukan huruf.\")\n",
        "\n",
        "    return huruf_kecil + huruf_besar"
      ],
      "metadata": {
        "id": "U6VvIDkCSDX5"
      },
      "execution_count": null,
      "outputs": []
    },
    {
      "cell_type": "code",
      "source": [
        "urut_huruf(\"DigitaL3_SkolA\")"
      ],
      "metadata": {
        "colab": {
          "base_uri": "https://localhost:8080/",
          "height": 70
        },
        "id": "_TXM8PrKSXvV",
        "outputId": "c6188732-1887-45ac-f212-eb39d4a6c0ba"
      },
      "execution_count": null,
      "outputs": [
        {
          "output_type": "stream",
          "name": "stdout",
          "text": [
            "3 diabaikan karena bukan huruf.\n",
            "_ diabaikan karena bukan huruf.\n"
          ]
        },
        {
          "output_type": "execute_result",
          "data": {
            "text/plain": [
              "'igitakolDLSA'"
            ],
            "application/vnd.google.colaboratory.intrinsic+json": {
              "type": "string"
            }
          },
          "metadata": {},
          "execution_count": 8
        }
      ]
    },
    {
      "cell_type": "markdown",
      "source": [],
      "metadata": {
        "id": "5c7IIyLXS-NG"
      }
    },
    {
      "cell_type": "markdown",
      "source": [
        "# 5. Diberikan suatu kata dalam string, buatlah fungsi yang menghitung banyaknya kemunculan setiap karakter (huruf/angka/symbol) dalam kata tersebut. Hasil kembaliannya harus berupa dictionary. Dilarang menggunakan fungsi built-in count() dari Python.Contoh input: “data science” Contoh output: {'d': 1, 'a': 2, 't': 1, ' ': 1, 's': 1, 'c': 2, 'i': 1, 'e': 2, 'n': 1}\n"
      ],
      "metadata": {
        "id": "h5XGNsNXS84Y"
      }
    },
    {
      "cell_type": "code",
      "source": [
        "def hitung_huruf(teks2):\n",
        "    if not isinstance(teks2, str):\n",
        "        print(f\"{teks2} diabaikan karena bukan string.\")\n",
        "        return None\n",
        "\n",
        "    teks2_transform = teks2.lower()\n",
        "    hasil = {}\n",
        "\n",
        "    for char in teks2_transform:\n",
        "        if char in hasil:\n",
        "            hasil[char] += 1\n",
        "        else:\n",
        "            hasil[char] = 1\n",
        "\n",
        "    return hasil"
      ],
      "metadata": {
        "id": "XGseDRU9TcYG"
      },
      "execution_count": null,
      "outputs": []
    },
    {
      "cell_type": "code",
      "source": [
        "hitung_huruf('DAta science5')"
      ],
      "metadata": {
        "colab": {
          "base_uri": "https://localhost:8080/"
        },
        "id": "KGcWqTYeTobq",
        "outputId": "26aa761d-bb47-4af4-90a3-aacc95247838"
      },
      "execution_count": null,
      "outputs": [
        {
          "output_type": "execute_result",
          "data": {
            "text/plain": [
              "{'d': 1,\n",
              " 'a': 2,\n",
              " 't': 1,\n",
              " ' ': 1,\n",
              " 's': 1,\n",
              " 'c': 2,\n",
              " 'i': 1,\n",
              " 'e': 2,\n",
              " 'n': 1,\n",
              " '5': 1}"
            ]
          },
          "metadata": {},
          "execution_count": 10
        }
      ]
    },
    {
      "cell_type": "markdown",
      "source": [],
      "metadata": {
        "id": "BnrPstMaE1Hz"
      }
    },
    {
      "cell_type": "markdown",
      "source": [
        "# 6. Buatlah sebuah fungsi dengan nama show_employee() berdasarkan ketentuan berikut: • Fungsi harus menerima nama dan gaji employee dan menampilkan keduanya di layar. • Jika input gajinya kosong saat pemanggilan fungsi, isikan nilai default 2000000 untuk gaji.• Fungsi juga mengembalikan suatu dictionary dengan key-nya adalah “nama” dan “gaji”, value-nya adalah nilai nama dan gajinya.\n"
      ],
      "metadata": {
        "id": "9NKGEfdfE2kD"
      }
    },
    {
      "cell_type": "code",
      "source": [
        "def show_employee(nama, gaji=2000000):\n",
        "  return (f'Nama : {nama}, Gaji : {gaji}')"
      ],
      "metadata": {
        "id": "E18ueyzeGEr8"
      },
      "execution_count": null,
      "outputs": []
    },
    {
      "cell_type": "code",
      "source": [
        "show_employee('Ika')"
      ],
      "metadata": {
        "colab": {
          "base_uri": "https://localhost:8080/",
          "height": 35
        },
        "id": "9IBRcu_qGYNA",
        "outputId": "a8e47a23-6182-4839-d7cf-d2a02d32c7c4"
      },
      "execution_count": null,
      "outputs": [
        {
          "output_type": "execute_result",
          "data": {
            "text/plain": [
              "'Nama : Ika, Gaji : 2000000'"
            ],
            "application/vnd.google.colaboratory.intrinsic+json": {
              "type": "string"
            }
          },
          "metadata": {},
          "execution_count": 12
        }
      ]
    }
  ]
}